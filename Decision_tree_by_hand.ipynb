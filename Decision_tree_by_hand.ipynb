{
 "cells": [
  {
   "cell_type": "markdown",
   "metadata": {
    "colab_type": "text",
    "id": "pZB_ACT6h4C9"
   },
   "source": [
    "# Дерево решений своими руками"
   ]
  },
  {
   "cell_type": "markdown",
   "metadata": {},
   "source": [
    "####  Теорию брал тут: https://habr.com/ru/post/171759/\n",
    "\n",
    "Про индекс Джини много источников, ну пусть будет этот видос: https://www.youtube.com/watch?v=2lEcfRuHFV4\n",
    "\n",
    "Реализация прохода по дереву аналогична этой реализации: https://habr.com/ru/company/ods/blog/322534/"
   ]
  },
  {
   "cell_type": "markdown",
   "metadata": {
    "colab_type": "text",
    "id": "qdjUk2m4h4DA"
   },
   "source": [
    "## Формальная задача:\n",
    "\n",
    "1) Write a code in pure python (Numpy and Scipy are allowed, do not use scikit) able to create a decision tree. In input, you should provide the independent features and the dependent feature (the class) separately.\n",
    "You can assume the dependent features and the independent feature binary. Please implements the Gini index and the entropy gain ratio. You can read the code available online, but you cannot plagiarize it. +\n",
    "\n",
    "2) Create a toy example to run and test your code (please show the result). +\n",
    "\n"
   ]
  },
  {
   "cell_type": "code",
   "execution_count": 2,
   "metadata": {},
   "outputs": [],
   "source": [
    "from sklearn.datasets import load_iris\n",
    "from sklearn.preprocessing import StandardScaler, MinMaxScaler, normalize, scale\n",
    "from sklearn import decomposition\n",
    "import numpy as np\n",
    "\n",
    "import warnings\n",
    "warnings.filterwarnings('ignore')\n",
    "%matplotlib inline\n",
    "from matplotlib import pyplot as plt"
   ]
  },
  {
   "cell_type": "code",
   "execution_count": 3,
   "metadata": {},
   "outputs": [
    {
     "data": {
      "image/png": "[encoded data removed]",
      "text/plain": [
       "<Figure size 576x432 with 1 Axes>"
      ]
     },
     "metadata": {},
     "output_type": "display_data"
    }
   ],
   "source": [
    "plt.rcParams['figure.figsize'] = (8,6)\n",
    "xx = np.linspace(0,1,50)\n",
    "plt.plot(xx, [2 * x * (1-x) for x in xx], label='gini')\n",
    "plt.plot(xx, [-x * np.log2(x) - (1-x) * np.log2(1 - x)  for x in xx], label='entropy')\n",
    "plt.title('Энтропия & Джини (для бинарной классификации)')\n",
    "plt.legend();"
   ]
  },
  {
   "cell_type": "code",
   "execution_count": 9,
   "metadata": {},
   "outputs": [],
   "source": [
    "def take_entropy(y): # находим энтропию системы\n",
    "    \n",
    "    n_examples = len(y)\n",
    "    classes = np.unique(y)\n",
    "    n_classes = len(classes)\n",
    "    s = 0\n",
    "    for x in classes:\n",
    "        p = (y == x).sum()/n_examples\n",
    "        s -= p*np.log(p) \n",
    "        \n",
    "    return s\n",
    "\n",
    "def take_igini(y): # находим индекс Джинни системы\n",
    "    \n",
    "    n_examples = len(y)\n",
    "    classes = np.unique(y)\n",
    "    n_classes = len(classes)\n",
    "    g = 1\n",
    "    for x in classes:\n",
    "        p = (y == x).sum()/n_examples\n",
    "        g -= p*p\n",
    "        \n",
    "    return g\n",
    "\n",
    "def split_x(X, y, feature_number, criterion): # деление данных на 2 части по фиче и её значению\n",
    "    \n",
    "    Xl = []\n",
    "    Xr = []\n",
    "    yl = []\n",
    "    yr = []\n",
    "    i = 0\n",
    "    for element in X:\n",
    "        if element[feature_number] <= criterion:   # Xl - меньше критерия, Xr - больше критерия\n",
    "            Xl.append(element)\n",
    "            yl.append(y[i])\n",
    "        else:\n",
    "            Xr.append(element)\n",
    "            yr.append(y[i])\n",
    "        i += 1\n",
    "    Xl = np.array(Xl)\n",
    "    Xr = np.array(Xr)\n",
    "    yl = np.array(yl)\n",
    "    yr = np.array(yr)   \n",
    "    \n",
    "    return Xl, Xr, yl, yr\n",
    "\n",
    "def find_best_criterion(X, y, use_gini = False): # выбираем лучшее разбиение\n",
    "                                                # (находим фичу и ее значение, по которой будем разделять)\n",
    "    \n",
    "    n_features = X.shape[1]\n",
    "    n_examples = len(y)\n",
    "    classes = np.unique(y)\n",
    "    n_classes = len(classes)\n",
    "    \n",
    "    IG = np.zeros((n_features,n_examples)) # мутим матрицу n_examples*n_features. В каждой ячейке число - прирост информации (IG)\n",
    "    if use_gini:\n",
    "        s0 = take_igini(y)\n",
    "    else:\n",
    "        s0 = take_entropy(y)\n",
    "    \n",
    "    for i in range(n_features):\n",
    "        for j in range(n_examples):\n",
    "            Xl, Xr, yl, yr = split_x(X, y, i, X[j,i])\n",
    "            \n",
    "            if use_gini:\n",
    "                sl = take_igini(yl)\n",
    "                sr = take_igini(yr)\n",
    "            else:\n",
    "                sl = take_entropy(yl)\n",
    "                sr = take_entropy(yr)\n",
    "            \n",
    "            kl = len(yl)/n_examples\n",
    "            kr = len(yr)/n_examples\n",
    "            IG[i,j] = s0 - kl*sl - kr*sr # information gain(IG)/прирост информации\n",
    "    \n",
    "    i,j = np.unravel_index(IG.argmax(), IG.shape) # берем максимальный прирост. Запоминаем его индексы\n",
    "    feature_number = i\n",
    "    criterion = X[j,i]\n",
    "\n",
    "    return feature_number, criterion"
   ]
  },
  {
   "cell_type": "code",
   "execution_count": 10,
   "metadata": {},
   "outputs": [],
   "source": [
    "class Tree():\n",
    "    '''\n",
    "    Основан на рекурсивных\n",
    "    вызовах, когда прописываются условия выхода из рекурсии. \n",
    "    '''\n",
    "    def __init__(self):\n",
    "              \n",
    "        self.idx_feature = -1 # номер лучшего признака\n",
    "        self.criter = 0 # значение лучшего признака\n",
    "        self.value = None # класс, которому относится сампл, он же значение в листе\n",
    "        self.left = None # левый потомок\n",
    "        self.right = None # правый потомок\n",
    "        \n",
    "    def tree_fit(self, X, y, use_gini = False):\n",
    "    \n",
    "        n_features = X.shape[1]\n",
    "        n_examples = len(y)\n",
    "        classes = np.unique(y)\n",
    "        n_classes = len(classes)\n",
    "        \n",
    "        if use_gini:\n",
    "            entropy = take_igini(y)\n",
    "        else:\n",
    "            entropy = take_entropy(y)\n",
    "        \n",
    "        if entropy < 0.2: # если == 0, то получаем переобучение. Дерево строится, пока в каждом загоне останутся только\n",
    "                                                        # примеры одного класса (получаем тупое запоминание всех самплов)\n",
    "            unique, counts = np.unique(y, return_counts=True)\n",
    "            self.value = dict(zip(unique, counts/len(y))) # Сохраняем словарь вероятностей каждого класса в качестве листа дерева\n",
    "            #self.value = ... # тут можно играться. Например, выводить только класс, у которого вероятность больше или др.\n",
    "        else:\n",
    "            n, feat = find_best_criterion(X,y) #нашли лучшее разбиение\n",
    "            X1, X2, y1, y2 = split_x(X, y, n, feat) #разбили по найденному лучшему разбиению\n",
    "        \n",
    "            self.idx_feature = n # номер фичи, по которой мы разделили\n",
    "            self.criter = feat # значение, по которому мы разделили        \n",
    "            self.left = Tree() # инициализируем потомков - такие же деревья решений\n",
    "            self.right = Tree() # инициализируем потомков - такие же деревья решений\n",
    "             \n",
    "            self.left.tree_fit(X1, y1, use_gini = False)  # обучаем потомков\n",
    "            self.right.tree_fit(X2, y2, use_gini = False) # обучаем потомков  \n",
    "    \n",
    "    def predict(self, sample):\n",
    "        \n",
    "        '''\n",
    "        Функция для генерирования предсказания - смотрим узлы, идем \n",
    "        в соответствующих  потомков и смотрим в конце self.value - это\n",
    "        и будет ответом.\n",
    "        '''\n",
    "        if self.idx_feature == -1:\n",
    "            return self.value\n",
    "        \n",
    "        if sample[self.idx_feature] <= self.criter:\n",
    "            return self.left.predict(sample)\n",
    "        else:\n",
    "            return self.right.predict(sample)"
   ]
  },
  {
   "cell_type": "markdown",
   "metadata": {},
   "source": [
    "### Примеры использования:"
   ]
  },
  {
   "cell_type": "code",
   "execution_count": 11,
   "metadata": {},
   "outputs": [],
   "source": [
    "# Простой датасет про 20 шариков на каждой координате. Предсказываем цвет шарика по координате. https://habr.com/ru/post/171759/\n",
    "# Датасет (1 фича - координата, 2 класса)\n",
    "X = np.array([i for i in range(20)]).reshape(20,1)\n",
    "y = np.array([1,0,0,0,0,1,1,1,1,0,0,0,0,1,1,1,1,1,1,0])"
   ]
  },
  {
   "cell_type": "code",
   "execution_count": 2,
   "metadata": {},
   "outputs": [
    {
     "name": "stdout",
     "output_type": "stream",
     "text": [
      "(150, 4) \n",
      "\n",
      "[0 0 0 0 0 0 0 0 0 0 0 0 0 0 0 0 0 0 0 0 0 0 0 0 0 0 0 0 0 0 0 0 0 0 0 0 0\n",
      " 0 0 0 0 0 0 0 0 0 0 0 0 0 1 1 1 1 1 1 1 1 1 1 1 1 1 1 1 1 1 1 1 1 1 1 1 1\n",
      " 1 1 1 1 1 1 1 1 1 1 1 1 1 1 1 1 1 1 1 1 1 1 1 1 1 1 2 2 2 2 2 2 2 2 2 2 2\n",
      " 2 2 2 2 2 2 2 2 2 2 2 2 2 2 2 2 2 2 2 2 2 2 2 2 2 2 2 2 2 2 2 2 2 2 2 2 2\n",
      " 2 2]\n"
     ]
    },
    {
     "data": {
      "text/plain": [
       "array([[5.1, 3.5, 1.4, 0.2],\n",
       "       [4.9, 3. , 1.4, 0.2],\n",
       "       [4.7, 3.2, 1.3, 0.2],\n",
       "       [4.6, 3.1, 1.5, 0.2],\n",
       "       [5. , 3.6, 1.4, 0.2]])"
      ]
     },
     "execution_count": 2,
     "metadata": {},
     "output_type": "execute_result"
    }
   ],
   "source": [
    "iris = load_iris()\n",
    "print(iris.data.shape, '\\n')\n",
    "print(iris.target)\n",
    "iris.data[:5]"
   ]
  },
  {
   "cell_type": "code",
   "execution_count": 12,
   "metadata": {},
   "outputs": [
    {
     "name": "stdout",
     "output_type": "stream",
     "text": [
      "{0: 1.0}\n"
     ]
    }
   ],
   "source": [
    "first_tree = Tree()\n",
    "first_tree.tree_fit(X, y)\n",
    "print(first_tree.predict(np.array([[2]]))) # верно. Класс: вероятность этого класса. Если не сомневается, то вероятность = 1.0"
   ]
  },
  {
   "cell_type": "code",
   "execution_count": 13,
   "metadata": {},
   "outputs": [
    {
     "name": "stdout",
     "output_type": "stream",
     "text": [
      "{1: 0.021739130434782608, 2: 0.9782608695652174}\n"
     ]
    }
   ],
   "source": [
    "# ну и проверим на нашем любимом датасете iris (4 фичи, 3 класса)\n",
    "second_tree = Tree()\n",
    "second_tree.tree_fit(iris.data, iris.target)\n",
    "print(second_tree.predict(iris.data[128])) # верно. Класс: вероятность принадлежности сампла к этому классу. \n",
    "        #Если сомневается, то будут перечислены все классы, к которым можно было бы отнести данный сампл + вер-ти этих классов"
   ]
  },
  {
   "cell_type": "code",
   "execution_count": 14,
   "metadata": {},
   "outputs": [
    {
     "name": "stdout",
     "output_type": "stream",
     "text": [
      "{1: 1.0}\n"
     ]
    }
   ],
   "source": [
    "first_tree = Tree()\n",
    "first_tree.tree_fit(X, y, use_gini = True)\n",
    "print(first_tree.predict(np.array([[18]]))) # верно. Класс: вероятность этого класса. Если не сомневается, то вероятность = 1.0"
   ]
  },
  {
   "cell_type": "code",
   "execution_count": 15,
   "metadata": {},
   "outputs": [
    {
     "name": "stdout",
     "output_type": "stream",
     "text": [
      "{1: 0.9791666666666666, 2: 0.020833333333333332}\n"
     ]
    }
   ],
   "source": [
    "# ну и проверим на нашем любимом датасете iris (4 фичи, 3 класса)\n",
    "second_tree = Tree()\n",
    "second_tree.tree_fit(iris.data, iris.target, use_gini = True)\n",
    "print(second_tree.predict(iris.data[50])) # верно. Класс: вероятность принадлежности сампла к этому классу. \n",
    "        #Если сомневается, то будут перечислены все классы, к которым можно было бы отнести данный сампл + вер-ти этих классов"
   ]
  },
  {
   "cell_type": "code",
   "execution_count": null,
   "metadata": {},
   "outputs": [],
   "source": []
  },
  {
   "cell_type": "markdown",
   "metadata": {},
   "source": [
    "Спасибо за просмотр. Надеюсь, код был легок для понимания. С уважением, Laggg (https://www.kaggle.com/laggg5)"
   ]
  }
 ],
 "metadata": {
  "colab": {
   "name": "PS1.ipynb",
   "provenance": [],
   "version": "0.3.2"
  },
  "kernelspec": {
   "display_name": "Python 3",
   "language": "python",
   "name": "python3"
  },
  "language_info": {
   "codemirror_mode": {
    "name": "ipython",
    "version": 3
   },
   "file_extension": ".py",
   "mimetype": "text/x-python",
   "name": "python",
   "nbconvert_exporter": "python",
   "pygments_lexer": "ipython3",
   "version": "3.6.5"
  }
 },
 "nbformat": 4,
 "nbformat_minor": 1
}
